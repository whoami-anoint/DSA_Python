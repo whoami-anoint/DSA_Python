{
 "cells": [
  {
   "attachments": {},
   "cell_type": "markdown",
   "id": "2a8c322b",
   "metadata": {},
   "source": [
    "### Array in Python\n",
    "<b> Array is the structure that stores value of same data types in python.</b>"
   ]
  },
  {
   "attachments": {},
   "cell_type": "markdown",
   "id": "9c133c95",
   "metadata": {},
   "source": [
    "- byte --> b,B (1 byter)\n",
    "- short --> h,H (2)\n",
    "- int --> i,I (2)\n",
    "- long --> i,L (4)\n",
    "\n",
    "- float --> f (4)\n",
    "- double --> d (8) \n",
    "\n",
    "- char --> c(1)\n",
    "- unicode_char --> u(2), w(4)"
   ]
  },
  {
   "attachments": {},
   "cell_type": "markdown",
   "id": "b2081fff",
   "metadata": {},
   "source": [
    "### Methods of array\n",
    "* insert (index,value)\n",
    "* append (index,value)"
   ]
  }
 ],
 "metadata": {
  "kernelspec": {
   "display_name": "Python 3 (ipykernel)",
   "language": "python",
   "name": "python3"
  },
  "language_info": {
   "codemirror_mode": {
    "name": "ipython",
    "version": 3
   },
   "file_extension": ".py",
   "mimetype": "text/x-python",
   "name": "python",
   "nbconvert_exporter": "python",
   "pygments_lexer": "ipython3",
   "version": "3.11.2"
  }
 },
 "nbformat": 4,
 "nbformat_minor": 5
}
