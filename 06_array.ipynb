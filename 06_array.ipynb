{
 "cells": [
  {
   "attachments": {},
   "cell_type": "markdown",
   "id": "2a8c322b",
   "metadata": {},
   "source": [
    "### Array in Python\n",
    "<b> Array is the structure that stores value of same data types in python.</b>\n",
    "- ``Array in Python DSA is same as list.``"
   ]
  },
  {
   "attachments": {},
   "cell_type": "markdown",
   "id": "9c133c95",
   "metadata": {},
   "source": [
    "- byte --> b,B (1 byter)\n",
    "- short --> h,H (2)\n",
    "- int --> i,I (2)\n",
    "- long --> i,L (4)\n",
    "\n",
    "- float --> f (4)\n",
    "- double --> d (8) \n",
    "\n",
    "- char --> c(1)\n",
    "- unicode_char --> u(2), w(4)"
   ]
  },
  {
   "attachments": {},
   "cell_type": "markdown",
   "id": "b2081fff",
   "metadata": {},
   "source": [
    "### Methods of array\n",
    "* insert (index,value)\n",
    "* append (value)\n",
    "* extend (array)\n",
    "* remove(value)\n",
    "* index(value)\n",
    "* reverse()\n",
    "* tolist()"
   ]
  },
  {
   "cell_type": "code",
   "execution_count": 37,
   "id": "0830af57",
   "metadata": {},
   "outputs": [
    {
     "name": "stdout",
     "output_type": "stream",
     "text": [
      "[2, 4, 5, 6, 8]\n"
     ]
    }
   ],
   "source": [
    "# Insert syntax in array\n",
    "# insert(index,value)\n",
    "\n",
    "arr1 = [2,5,6,8]\n",
    "arr1.insert(1,4)\n",
    "print (arr1)"
   ]
  },
  {
   "cell_type": "code",
   "execution_count": 38,
   "id": "f18b76d9",
   "metadata": {},
   "outputs": [
    {
     "name": "stdout",
     "output_type": "stream",
     "text": [
      "[2, 4, 5, 6, 8, 10]\n"
     ]
    }
   ],
   "source": [
    "# Append syntax in array\n",
    "#append(value)\n",
    "\n",
    "arr1.append(10)\n",
    "print(arr1)"
   ]
  },
  {
   "cell_type": "code",
   "execution_count": 39,
   "id": "fa7a7a0d",
   "metadata": {},
   "outputs": [
    {
     "name": "stdout",
     "output_type": "stream",
     "text": [
      "[2, 4, 5, 6, 8, 10, 11, 12, 13, 14]\n"
     ]
    }
   ],
   "source": [
    "# Extend syntax in array\n",
    "# extend(array)\n",
    "\n",
    "arr2 = [11,12,13,14]\n",
    "arr1.extend(arr2)\n",
    "print(arr1)"
   ]
  },
  {
   "cell_type": "code",
   "execution_count": 40,
   "id": "dc005222",
   "metadata": {},
   "outputs": [
    {
     "name": "stdout",
     "output_type": "stream",
     "text": [
      "[2, 4, 5, 6, 8, 10, 11, 12, 14]\n"
     ]
    }
   ],
   "source": [
    "# Remove syntax in array\n",
    "# remove(value)\n",
    "\n",
    "arr1.remove(13)\n",
    "print(arr1)"
   ]
  },
  {
   "cell_type": "code",
   "execution_count": 41,
   "id": "75cb8c48",
   "metadata": {},
   "outputs": [
    {
     "data": {
      "text/plain": [
       "2"
      ]
     },
     "execution_count": 41,
     "metadata": {},
     "output_type": "execute_result"
    }
   ],
   "source": [
    "# Index syntax in array\n",
    "# index(value)\n",
    "\n",
    "arr1.index(5)"
   ]
  },
  {
   "cell_type": "code",
   "execution_count": 42,
   "id": "efedd357",
   "metadata": {},
   "outputs": [
    {
     "name": "stdout",
     "output_type": "stream",
     "text": [
      "[14, 12, 11, 10, 8, 6, 5, 4, 2]\n"
     ]
    }
   ],
   "source": [
    "# Reverse syntax in array\n",
    "# reverse()\n",
    "\n",
    "arr1.reverse()\n",
    "print(arr1)"
   ]
  },
  {
   "cell_type": "code",
   "execution_count": 43,
   "id": "da9300b4",
   "metadata": {},
   "outputs": [
    {
     "name": "stdout",
     "output_type": "stream",
     "text": [
      "a [[11 21]\n",
      " [31 41]]\n",
      "b [[11, 21], [31, 41]]\n"
     ]
    }
   ],
   "source": [
    "import numpy as np  \n",
    "a = np.array([[11, 21], [31, 41]])  \n",
    "b=a.tolist()     \n",
    "print(\"a\",a)\n",
    "print(\"b\",b)"
   ]
  },
  {
   "cell_type": "code",
   "execution_count": 46,
   "id": "1ed82579",
   "metadata": {},
   "outputs": [
    {
     "name": "stdout",
     "output_type": "stream",
     "text": [
      "array('i', [1, 2, 3, 4])\n"
     ]
    },
    {
     "data": {
      "text/plain": [
       "4"
      ]
     },
     "execution_count": 46,
     "metadata": {},
     "output_type": "execute_result"
    }
   ],
   "source": [
    "### What is the difference between functions and methods?\n",
    "# Syntax Scenerio:\n",
    "from array import * \n",
    "arr3 = array('i',[4,3,2,1])\n",
    "arr3.reverse()\n",
    "print(arr3)\n",
    "len(arr3)\n",
    "## reverse is method here and len is function here."
   ]
  },
  {
   "attachments": {},
   "cell_type": "markdown",
   "id": "6d56c47e",
   "metadata": {},
   "source": [
    "### So why reverse is method and len is function in the above scenerio?\n",
    "- Reverse can also be a function but in the above scenerio this is a method, while we use arr3.reverse then it is object functionality and use dot (.) operator.\n",
    "- But in another case, len is a function that doesn't need the object reference. Isn't access through dot(.) operator."
   ]
  },
  {
   "attachments": {},
   "cell_type": "markdown",
   "id": "916847e8",
   "metadata": {},
   "source": [
    "### Applications of Array: \n",
    " <h4> Different applications of an array are as follows:</h4>\n",
    "\n",
    "   * An array is used in solving matrix problems.\n",
    "   * Database records are also implemented by an array.\n",
    "   * It helps in implementing a sorting algorithm.\n",
    "   * It is also used to implement other data structures like Stacks, Queues, Heaps, Hash tables, etc.\n",
    "   * An array can be used for CPU scheduling.\n",
    "   * Can be applied as a lookup table in computers.\n",
    "   * Arrays can be used in speech processing where every speech signal is an array.\n",
    "   * The screen of the computer is also displayed by an array. Here we use a multidimensional array. \n",
    "   * The array is used in many management systems like a library, students, parliament, etc. \n",
    "   * The array is used in the online ticket booking system. Contacts on a cell phone are displayed by this array. \n",
    "   * In games like online chess, where the player can store his past moves as well as current moves. It indicates a hint of position. \n"
   ]
  }
 ],
 "metadata": {
  "kernelspec": {
   "display_name": "Python 3 (ipykernel)",
   "language": "python",
   "name": "python3"
  },
  "language_info": {
   "codemirror_mode": {
    "name": "ipython",
    "version": 3
   },
   "file_extension": ".py",
   "mimetype": "text/x-python",
   "name": "python",
   "nbconvert_exporter": "python",
   "pygments_lexer": "ipython3",
   "version": "3.11.2"
  }
 },
 "nbformat": 4,
 "nbformat_minor": 5
}
