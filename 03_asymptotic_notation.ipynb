{
 "cells": [
  {
   "attachments": {},
   "cell_type": "markdown",
   "id": "41691698",
   "metadata": {},
   "source": [
    "### Asymptotic Notatation\n",
    "\n",
    "* They give a characterization of an algorithm's efficency.\n",
    "* They allow the comparision of the performance of various algorithm. \n",
    "\n",
    "There are three different notations: \n",
    "* Big-O Notation (O)\n",
    "* Omega Notation (Ω)\n",
    "* Theta Notation (Θ)"
   ]
  },
  {
   "attachments": {},
   "cell_type": "markdown",
   "id": "edc57fd2",
   "metadata": {},
   "source": [
    "### Big-O Notation (O)\n",
    "\n",
    "- Worst Case\n",
    "- Upper Bound (UB)\n",
    "- Most widely used notation\n",
    "\n",
    "```Formula: f(n) ≤ c*g(n) ```"
   ]
  },
  {
   "attachments": {},
   "cell_type": "markdown",
   "id": "5d6274f6",
   "metadata": {},
   "source": [
    "### Omega Notation (Ω)\n",
    "* Best case\n",
    "* Lower Bound (LB)\n",
    "\n",
    "``` Formula: --> f(n) ≥ c*g(n)```\n",
    "\n",
    "``` --> f(n) = Ω(g(n)) ```"
   ]
  },
  {
   "attachments": {},
   "cell_type": "markdown",
   "id": "f1a5de93",
   "metadata": {},
   "source": [
    "### Theta Notation (Θ)\n",
    "* Average Case\n",
    "* Tight Bound (TB)\n",
    "\n",
    "``` Formula: --> c1*g(n) ≤ f(n) ≤ c2*g(n)```\n",
    "\n",
    " ``` --> f(n) = Θ (g(n))```"
   ]
  }
 ],
 "metadata": {
  "kernelspec": {
   "display_name": "Python 3 (ipykernel)",
   "language": "python",
   "name": "python3"
  },
  "language_info": {
   "codemirror_mode": {
    "name": "ipython",
    "version": 3
   },
   "file_extension": ".py",
   "mimetype": "text/x-python",
   "name": "python",
   "nbconvert_exporter": "python",
   "pygments_lexer": "ipython3",
   "version": "3.11.2"
  }
 },
 "nbformat": 4,
 "nbformat_minor": 5
}
