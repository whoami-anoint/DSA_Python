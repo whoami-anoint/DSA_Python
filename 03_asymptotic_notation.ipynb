{
 "cells": [
  {
   "cell_type": "markdown",
   "id": "41691698",
   "metadata": {},
   "source": [
    "### Asymptotic Notatation\n",
    "\n",
    "* They give a characterization of an algorithm's efficency.\n",
    "* They allow the comparision of the performance of various algorithm. \n",
    "\n",
    "There are three different notations: \n",
    "* Big-O Notation (O)\n",
    "* Big Theta Notation (Θ)\n",
    "* Big Omega Notation (Ω)."
   ]
  },
  {
   "cell_type": "markdown",
   "id": "edc57fd2",
   "metadata": {},
   "source": [
    "### Big-O Notation (O)\n",
    "\n",
    "- Worst Case\n",
    "- Upper Case\n",
    "- Most widely used notation\n",
    "\n",
    "```Formula: f(n) ≤ c*g(n) ```"
   ]
  },
  {
   "cell_type": "code",
   "execution_count": null,
   "id": "359ac80c",
   "metadata": {},
   "outputs": [],
   "source": []
  }
 ],
 "metadata": {
  "kernelspec": {
   "display_name": "Python 3 (ipykernel)",
   "language": "python",
   "name": "python3"
  },
  "language_info": {
   "codemirror_mode": {
    "name": "ipython",
    "version": 3
   },
   "file_extension": ".py",
   "mimetype": "text/x-python",
   "name": "python",
   "nbconvert_exporter": "python",
   "pygments_lexer": "ipython3",
   "version": "3.11.2"
  }
 },
 "nbformat": 4,
 "nbformat_minor": 5
}
