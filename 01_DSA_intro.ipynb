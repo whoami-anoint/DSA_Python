{
 "cells": [
  {
   "attachments": {},
   "cell_type": "markdown",
   "id": "6de03989",
   "metadata": {},
   "source": [
    "## Data Structure with Python "
   ]
  },
  {
   "attachments": {},
   "cell_type": "markdown",
   "id": "4bd05e83",
   "metadata": {},
   "source": [
    "<b> Data Structure is a particular way of storing and organizing data in a computer so that is can be used efficently. </b>\n",
    "There are two types of data structures.They are:\n",
    "1) Linear Data Structure\n",
    "2)  Non-Linear Data Structure"
   ]
  },
  {
   "attachments": {},
   "cell_type": "markdown",
   "id": "a4b3fde5",
   "metadata": {},
   "source": [
    "1) Linear Data Structure\n",
    "- Elements are accessed in a sequential order but it is not compulsory to store all elements sequentially.\n",
    "- Examples: Linked Lists, Stacks and Queues"
   ]
  },
  {
   "attachments": {},
   "cell_type": "markdown",
   "id": "8518029f",
   "metadata": {},
   "source": [
    "2. Non-Linear Data Structure\n",
    "- Elements of this data structure are stored/accessed in a non-linear order.\n",
    "- Examples: Trees and Graphs"
   ]
  },
  {
   "attachments": {},
   "cell_type": "markdown",
   "id": "e8dfff36",
   "metadata": {},
   "source": [
    "  ## Algorithm  \n",
    "  - An Algorithm is the step-by-step unambiguous instructions to solve a given problem."
   ]
  },
  {
   "attachments": {},
   "cell_type": "markdown",
   "id": "3a22855d",
   "metadata": {},
   "source": [
    "What is <b>Running Time Analysis?</b>\n",
    " - It is the process of determining how processing time increases as the size of the problem (input size) increases.\n",
    "\n",
    " The following are types of input:\n",
    " * Size of the array\n",
    " * Polynomial degree\n",
    " * Number of elements of a matrix\n",
    " * Number of bits in the binary representation of the input.\n",
    " * Vertices and edges in a graph."
   ]
  },
  {
   "attachments": {},
   "cell_type": "markdown",
   "id": "2fd62e92",
   "metadata": {},
   "source": [
    "What is <b>Rate of Growth?</b>\n",
    "- The rate at which the running time increases as a function of input is called rate of growth."
   ]
  },
  {
   "attachments": {},
   "cell_type": "markdown",
   "id": "a6d34a3c",
   "metadata": {},
   "source": [
    "| Time Complexity |        Name        |                       Examples                      |\n",
    "|:---------------:|:------------------:|:---------------------------------------------------:|\n",
    "|        1        |      Constant      |   Adding an element to the front of a linked list   |\n",
    "|       logn      |     Logarithmic    |         Finding an element in a sorted array        |\n",
    "|        n        |       Linear       |        Finding an element in a unsorted array       |\n",
    "|      nlogn      | Linear Logarithmic | Sorting n items by 'divide-and-conquer' - Mergesort |\n",
    "|       n**2      |     Quardratic     |      Shortest path between two nodes in a graph     |\n",
    "|       n**3      |        Cubic       |                Matrix Multiplication                |\n",
    "|       2^n       |     Exponential    |             The Towers of Hanoi problem             |"
   ]
  }
 ],
 "metadata": {
  "kernelspec": {
   "display_name": "Python 3 (ipykernel)",
   "language": "python",
   "name": "python3"
  },
  "language_info": {
   "codemirror_mode": {
    "name": "ipython",
    "version": 3
   },
   "file_extension": ".py",
   "mimetype": "text/x-python",
   "name": "python",
   "nbconvert_exporter": "python",
   "pygments_lexer": "ipython3",
   "version": "3.11.2"
  }
 },
 "nbformat": 4,
 "nbformat_minor": 5
}
