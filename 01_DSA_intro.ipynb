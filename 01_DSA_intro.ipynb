{
 "cells": [
  {
   "attachments": {},
   "cell_type": "markdown",
   "id": "6de03989",
   "metadata": {},
   "source": [
    "## Data Structure with Python "
   ]
  },
  {
   "attachments": {},
   "cell_type": "markdown",
   "id": "4bd05e83",
   "metadata": {},
   "source": [
    "<b> Data Structure is a particular way of storing and organizing data in a computer so that is can be used efficently. </b>\n",
    "There are two types of data structures.They are:\n",
    "1) Linear Data Structure\n",
    "2)  Non-Linear Data Structure"
   ]
  },
  {
   "attachments": {},
   "cell_type": "markdown",
   "id": "a4b3fde5",
   "metadata": {},
   "source": [
    "1) Linear Data Structure\n",
    "- Elements are accessed in a sequential order but it is not compulsory to store all elements sequentially.\n",
    "- Examples: Linked Lists, Stacks and Queues"
   ]
  },
  {
   "attachments": {},
   "cell_type": "markdown",
   "id": "8518029f",
   "metadata": {},
   "source": [
    "2. Non-Linear Data Structure\n",
    "- Elements of this data structure are stored/accessed in a non-linear order.\n",
    "- Examples: Trees and Graphs"
   ]
  }
 ],
 "metadata": {
  "kernelspec": {
   "display_name": "Python 3 (ipykernel)",
   "language": "python",
   "name": "python3"
  },
  "language_info": {
   "codemirror_mode": {
    "name": "ipython",
    "version": 3
   },
   "file_extension": ".py",
   "mimetype": "text/x-python",
   "name": "python",
   "nbconvert_exporter": "python",
   "pygments_lexer": "ipython3",
   "version": "3.11.2"
  }
 },
 "nbformat": 4,
 "nbformat_minor": 5
}
