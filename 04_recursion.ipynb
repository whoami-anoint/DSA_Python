{
 "cells": [
  {
   "attachments": {},
   "cell_type": "markdown",
   "metadata": {},
   "source": [
    "### What is Recursion?\n",
    "- Any function which calls itself is called recursive.\n",
    "- It is generally shorter and easier to write than iterative code.\n",
    "- Used to perform subtasks. For example: sort, search and traversal problems.\n"
   ]
  },
  {
   "cell_type": "code",
   "execution_count": 1,
   "metadata": {},
   "outputs": [
    {
     "data": {
      "text/plain": [
       "120"
      ]
     },
     "execution_count": 1,
     "metadata": {},
     "output_type": "execute_result"
    }
   ],
   "source": [
    "# Factorial function using recursion\n",
    "\n",
    "def factorial(n):\n",
    " if n == 0:\n",
    "  return 1 \n",
    " else: return n*factorial(n-1)\n",
    "\n",
    "factorial(5)"
   ]
  },
  {
   "attachments": {},
   "cell_type": "markdown",
   "metadata": {},
   "source": [
    "### Recursion V/S Iteration\n",
    "\n",
    "Recursion:\n",
    "- Terminates when a base case is reached.\n",
    "- Each recursion call requires extra space on the stack frame (memory).\n",
    "- If we get infinite recursion, the problem may run out of memory and result in stack overflow.\n",
    "\n",
    "Iteration: \n",
    "- Terminates when a condition is proven to be false.\n",
    "- Each iteration doesn't require extra space.\n",
    "- Iterative solutions to a problem may not always be as obvious as a recursive solution."
   ]
  },
  {
   "attachments": {},
   "cell_type": "markdown",
   "metadata": {},
   "source": [
    "### Example Algorithms of Recursion\n",
    "- Fibonacci series, factorial finding\n",
    "- Merge Sort, Quick sort\n",
    "- Binary Search\n",
    "- Tree Traversal and many tree problems: In Order, PreOrder PostOrder\n",
    "- Graph traversal: DFS [Depth First Search] and BFS [Breadth First Search]\n",
    "- Dynamic Programming examples\n",
    "- Divide and conquer algorithms\n",
    "- Towers of Hanoi\n",
    "- Backtracking algorithms"
   ]
  }
 ],
 "metadata": {
  "kernelspec": {
   "display_name": "Python 3",
   "language": "python",
   "name": "python3"
  },
  "language_info": {
   "codemirror_mode": {
    "name": "ipython",
    "version": 3
   },
   "file_extension": ".py",
   "mimetype": "text/x-python",
   "name": "python",
   "nbconvert_exporter": "python",
   "pygments_lexer": "ipython3",
   "version": "3.11.2"
  },
  "orig_nbformat": 4
 },
 "nbformat": 4,
 "nbformat_minor": 2
}
