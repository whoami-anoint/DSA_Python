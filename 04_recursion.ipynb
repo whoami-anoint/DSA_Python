{
 "cells": [
  {
   "attachments": {},
   "cell_type": "markdown",
   "metadata": {},
   "source": [
    "### What is Recursion?\n",
    "- Any function which calls itself is called recursive.\n",
    "- It is generally shorter and easier to write than iterative code.\n",
    "- Used to perform subtasks. For example: sort, search and traversal problems.\n"
   ]
  },
  {
   "cell_type": "code",
   "execution_count": 1,
   "metadata": {},
   "outputs": [
    {
     "data": {
      "text/plain": [
       "120"
      ]
     },
     "execution_count": 1,
     "metadata": {},
     "output_type": "execute_result"
    }
   ],
   "source": [
    "# Factorial function\n",
    "\n",
    "def factorial(n):\n",
    " if n == 0:\n",
    "  return 1 \n",
    " else: return n*factorial(n-1)\n",
    "\n",
    "factorial(5)"
   ]
  },
  {
   "attachments": {},
   "cell_type": "markdown",
   "metadata": {},
   "source": [
    "### Recursion V/S Iteration\n",
    "\n",
    "Recursion:\n",
    "- Terminates when a base case is reached.\n",
    "- Each recursion call requires extra space on the stack frame (memory).\n",
    "- If we get infinite recursion, the problem may run out of memory and result in stack overflow.\n",
    "\n"
   ]
  }
 ],
 "metadata": {
  "kernelspec": {
   "display_name": "Python 3",
   "language": "python",
   "name": "python3"
  },
  "language_info": {
   "codemirror_mode": {
    "name": "ipython",
    "version": 3
   },
   "file_extension": ".py",
   "mimetype": "text/x-python",
   "name": "python",
   "nbconvert_exporter": "python",
   "pygments_lexer": "ipython3",
   "version": "3.11.2"
  },
  "orig_nbformat": 4
 },
 "nbformat": 4,
 "nbformat_minor": 2
}
