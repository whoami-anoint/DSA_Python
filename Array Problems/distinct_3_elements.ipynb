{
 "cells": [
  {
   "attachments": {},
   "cell_type": "markdown",
   "metadata": {},
   "source": [
    "### Find the largest three distinct elements in an array.\n",
    "- Given an array with all distinct elements, find the largest three elements. Expected time complexity is O(n) and extra space is O(1). \n",
    "\n",
    "Examples :\n",
    "\n",
    "* Input: arr[] = {10, 4, 3, 50, 23, 90}\n",
    "* Output: 90, 50, 23\n"
   ]
  }
 ],
 "metadata": {
  "language_info": {
   "name": "python"
  },
  "orig_nbformat": 4
 },
 "nbformat": 4,
 "nbformat_minor": 2
}
