{
 "cells": [
  {
   "attachments": {},
   "cell_type": "markdown",
   "metadata": {},
   "source": [
    "### Find the largest three distinct elements in an array.\n",
    "- Given an array with all distinct elements, find the largest three elements. Expected time complexity is O(n) and extra space is O(1). \n",
    "\n",
    "Examples :\n",
    "\n",
    "* Input: arr = [10, 4, 3, 50, 23, 90]\n",
    "* Output: 90, 50, 23\n"
   ]
  },
  {
   "attachments": {},
   "cell_type": "markdown",
   "metadata": {},
   "source": [
    "``Algorithm: Single Pass with Tracking Variables``\n",
    "\n",
    "*    Initialize first, second, and third variables to negative infinity.\n",
    "*    Go through each number in the list.\n",
    "*    If a number is greater than the current first number, update first and shift the other two numbers down accordingly.\n",
    "*    If a number is greater than the current second number but not equal to first, update second and shift the third number down.\n",
    "*    If a number is greater than the current third number but not equal to second, update third.\n",
    "*    After going through all the numbers, the variables first, second, and third will hold the three largest numbers."
   ]
  },
  {
   "cell_type": "code",
   "execution_count": 3,
   "metadata": {},
   "outputs": [
    {
     "name": "stdout",
     "output_type": "stream",
     "text": [
      "[90, 50, 23]\n"
     ]
    }
   ],
   "source": [
    "# Find the largest three distinct elements in an array.\n",
    "\n",
    "def find_largest_three_numbers(nums):\n",
    "    first = float('-inf')\n",
    "    second = float('-inf')\n",
    "    third = float('-inf')\n",
    "\n",
    "    for num in nums:\n",
    "        if num > first:\n",
    "            third = second\n",
    "            second = first\n",
    "            first = num\n",
    "        elif first > num > second:\n",
    "            third = second\n",
    "            second = num\n",
    "        elif second > num > third:\n",
    "            third = num\n",
    "\n",
    "    return [first, second, third]\n",
    "# Driver program to test above function\n",
    "arr = [10, 4, 3, 50, 23, 90]\n",
    "n = len(arr)\n",
    "\n",
    "b = find_largest_three_numbers(arr)\n",
    "print(b)\n"
   ]
  },
  {
   "attachments": {},
   "cell_type": "markdown",
   "metadata": {},
   "source": [
    "``It performs a single pass through the list, updating the variables as needed, resulting in a time complexity of O(n).``"
   ]
  }
 ],
 "metadata": {
  "kernelspec": {
   "display_name": "Python 3",
   "language": "python",
   "name": "python3"
  },
  "language_info": {
   "codemirror_mode": {
    "name": "ipython",
    "version": 3
   },
   "file_extension": ".py",
   "mimetype": "text/x-python",
   "name": "python",
   "nbconvert_exporter": "python",
   "pygments_lexer": "ipython3",
   "version": "3.11.2"
  },
  "orig_nbformat": 4
 },
 "nbformat": 4,
 "nbformat_minor": 2
}
