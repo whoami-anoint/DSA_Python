{
 "cells": [
  {
   "attachments": {},
   "cell_type": "markdown",
   "metadata": {},
   "source": [
    "## Move all zeroes to end of array\n",
    "\n",
    "### Given a array: \n",
    "- A = [5, 6, 0, 4, 6, 0, 9, 0, 8]"
   ]
  },
  {
   "attachments": {},
   "cell_type": "markdown",
   "metadata": {},
   "source": [
    "### Algorithm for the problem.\n",
    "\n",
    "1.   Start with the given array A containing the elements.\n",
    "\n",
    "2.   Determine the length of the array and assign it to the variable n.\n",
    "\n",
    "3.    Initialize a variable j to 0. This variable will keep track of the position where the next non-zero element should be placed.\n",
    "\n",
    "4.    Iterate through the array using a loop from index 0 to (n-1):\n",
    "\n",
    "        * For each element at index i, perform the following steps:\n",
    "        \n",
    "        * Check if the element at index i is not equal to zero: A[i] != 0.\n",
    "        * If the element is not zero:\n",
    "\n",
    "          - Swap the element at index i with the element at index j. This is achieved using the assignment statement A[j], A[i] = A[i], A[j]. By doing this, we effectively move non-zero elements towards the front of the array.\n",
    "\n",
    "          - Increment the value of j by 1. This ensures that the next non-zero element will be placed at the next available position.\n",
    "\n",
    "5.    After the loop finishes iterating through the entire array:\n",
    "\n",
    "      - All non-zero elements will be placed towards the beginning of the array, from index 0 to j-1.\n",
    "\n",
    "      - The remaining elements, from index j to n-1, will be zeros.\n",
    "\n",
    " 6.   Print the resulting array A to observe the modified order of elements."
   ]
  },
  {
   "cell_type": "code",
   "execution_count": 1,
   "metadata": {},
   "outputs": [
    {
     "name": "stdout",
     "output_type": "stream",
     "text": [
      "[5, 6, 4, 6, 9, 8, 0, 0, 0]\n"
     ]
    }
   ],
   "source": [
    "A = [5, 6, 0, 4, 6, 0, 9, 0, 8]\n",
    "n = len(A)\n",
    "j = 0\n",
    "for i in range(n):\n",
    "    if A[i] != 0:\n",
    "        A[j], A[i] = A[i], A[j]  # Partitioning the array\n",
    "        j += 1\n",
    "print(A)  # Print the array\n"
   ]
  }
 ],
 "metadata": {
  "kernelspec": {
   "display_name": "Python 3",
   "language": "python",
   "name": "python3"
  },
  "language_info": {
   "codemirror_mode": {
    "name": "ipython",
    "version": 3
   },
   "file_extension": ".py",
   "mimetype": "text/x-python",
   "name": "python",
   "nbconvert_exporter": "python",
   "pygments_lexer": "ipython3",
   "version": "3.11.2"
  },
  "orig_nbformat": 4
 },
 "nbformat": 4,
 "nbformat_minor": 2
}
