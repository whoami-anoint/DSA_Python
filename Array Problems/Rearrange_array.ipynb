{
 "cells": [
  {
   "attachments": {},
   "cell_type": "markdown",
   "metadata": {},
   "source": [
    "## Rearrange array such that even positioned are greater than odd\n",
    "\n",
    "- array = [1, 3, 2, 4, 7, 6, 9, 8]\n"
   ]
  },
  {
   "attachments": {},
   "cell_type": "markdown",
   "metadata": {},
   "source": [
    "## Algorithm for the problem.\n",
    "\n",
    "1.   Start by sorting the array in ascending order. This will ensure that the smallest elements come first.\n",
    "2.  Create an auxiliary array to store the rearranged elements.\n",
    "3.    Initialize two pointers: one pointing to the start of the sorted array (index 0) and the other pointing to the middle of the array (index n//2).\n",
    "4. Iterate through the auxiliary array and perform the following steps:\n",
    "      -  Place the element from the middle of the sorted array at the current position in the auxiliary array.\n",
    "      -  Move the middle pointer one step forward.\n",
    "      - Place the element from the start of the sorted array at the next position in the auxiliary array.\n",
    "      -  Move the start pointer one step forward.\n",
    "5.  After iterating through the auxiliary array, it will contain the rearranged elements with even positioned elements greater than odd positioned elements."
   ]
  },
  {
   "cell_type": "code",
   "execution_count": 1,
   "metadata": {},
   "outputs": [
    {
     "name": "stdout",
     "output_type": "stream",
     "text": [
      "Rearranged array: [6, 1, 7, 2, 8, 3, 9, 4]\n"
     ]
    }
   ],
   "source": [
    "def rearrange_array(arr):\n",
    "    # Step 1: Sort the array\n",
    "    sorted_arr = sorted(arr)\n",
    "\n",
    "    # Step 2: Create an auxiliary array\n",
    "    result = [0] * len(arr)\n",
    "\n",
    "    # Step 3: Initialize pointers\n",
    "    start = 0\n",
    "    middle = len(arr) // 2\n",
    "\n",
    "    # Step 4: Rearrange elements\n",
    "    for i in range(len(arr)):\n",
    "        if i % 2 == 0:\n",
    "            result[i] = sorted_arr[middle]\n",
    "            middle += 1\n",
    "        else:\n",
    "            result[i] = sorted_arr[start]\n",
    "            start += 1\n",
    "\n",
    "    return result\n",
    "    \n",
    "array = [1, 3, 2, 4, 7, 6, 9, 8]\n",
    "rearranged_array = rearrange_array(array)\n",
    "print(\"Rearranged array:\", rearranged_array)\n"
   ]
  }
 ],
 "metadata": {
  "kernelspec": {
   "display_name": "Python 3",
   "language": "python",
   "name": "python3"
  },
  "language_info": {
   "codemirror_mode": {
    "name": "ipython",
    "version": 3
   },
   "file_extension": ".py",
   "mimetype": "text/x-python",
   "name": "python",
   "nbconvert_exporter": "python",
   "pygments_lexer": "ipython3",
   "version": "3.11.2"
  },
  "orig_nbformat": 4
 },
 "nbformat": 4,
 "nbformat_minor": 2
}
