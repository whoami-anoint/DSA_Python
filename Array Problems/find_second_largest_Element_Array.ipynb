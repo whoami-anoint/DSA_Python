{
 "cells": [
  {
   "attachments": {},
   "cell_type": "markdown",
   "metadata": {},
   "source": [
    "### Find Second largest element in an array"
   ]
  },
  {
   "attachments": {},
   "cell_type": "markdown",
   "metadata": {},
   "source": [
    "- array = [3, 9, 1, 6, 2, 7, 8, 5]"
   ]
  },
  {
   "attachments": {},
   "cell_type": "markdown",
   "metadata": {},
   "source": [
    "### Algorithm for the problem\n",
    "\n",
    "1. Initialize largest and second_largest to negative infinity (float('-inf')).\n",
    "2. Iterate through each element of the array.\n",
    "3. For each element, compare it with the value of largest.\n",
    "    * If the current element is greater than largest, update second_largest with the value of largest, and update largest with the current element.\n",
    "    * If the current element is not greater than largest but is greater than second_largest, update second_largest with the current element.\n",
    "4. Repeat this process for each element in the array.\n",
    "5. After iterating through the entire array, the variable second_largest will hold the second largest element.\n",
    "6. Return the value of second_largest as the result."
   ]
  },
  {
   "cell_type": "code",
   "execution_count": 1,
   "metadata": {},
   "outputs": [
    {
     "name": "stdout",
     "output_type": "stream",
     "text": [
      "Second largest element: 8\n"
     ]
    }
   ],
   "source": [
    "# Find the second largest element in an array\n",
    "\n",
    "def find_second_largest(arr):\n",
    "    largest = float('-inf')\n",
    "    second_largest = float('-inf')\n",
    "\n",
    "    for num in arr:\n",
    "        if num > largest:\n",
    "            second_largest = largest\n",
    "            largest = num\n",
    "        elif num > second_largest:\n",
    "            second_largest = num\n",
    "\n",
    "    return second_largest\n",
    "\n",
    "array = [3, 9, 1, 6, 2, 7, 8, 5]\n",
    "second_largest = find_second_largest(array)\n",
    "print(\"Second largest element:\", second_largest)\n"
   ]
  }
 ],
 "metadata": {
  "kernelspec": {
   "display_name": "Python 3",
   "language": "python",
   "name": "python3"
  },
  "language_info": {
   "codemirror_mode": {
    "name": "ipython",
    "version": 3
   },
   "file_extension": ".py",
   "mimetype": "text/x-python",
   "name": "python",
   "nbconvert_exporter": "python",
   "pygments_lexer": "ipython3",
   "version": "3.11.2"
  },
  "orig_nbformat": 4
 },
 "nbformat": 4,
 "nbformat_minor": 2
}
