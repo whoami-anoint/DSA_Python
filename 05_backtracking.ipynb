{
 "cells": [
  {
   "attachments": {},
   "cell_type": "markdown",
   "metadata": {},
   "source": [
    "### What is Backtracking?\n",
    "- Backtracking is an algorithmic technique whose goal is to use brute force to find all solutions to a problem."
   ]
  },
  {
   "attachments": {},
   "cell_type": "markdown",
   "metadata": {},
   "source": [
    "### When to use a Backtracking algorithm?\n",
    "\n",
    "When we have multiple choices, then we make the decisions from the available choices. In the following cases, we need to use the backtracking algorithm:\n",
    "\n",
    "*   A piece of sufficient information is not available to make the best choice, so we use the backtracking strategy to try out all the possible solutions.\n",
    "*    Each decision leads to a new set of choices. Then again, we backtrack to make new decisions. In this case, we need to use the backtracking strategy.\n"
   ]
  },
  {
   "attachments": {},
   "cell_type": "markdown",
   "metadata": {},
   "source": [
    "### Applications of Backtracking\n",
    "\n",
    " *   N-queen problem\n",
    " *   Sum of subset problem\n",
    " *   Graph coloring\n",
    " *   Hamiliton cycle\n"
   ]
  },
  {
   "attachments": {},
   "cell_type": "markdown",
   "metadata": {},
   "source": [
    "### Difference between the Backtracking and Recursion\n",
    "\n",
    "- Recursion is a technique that calls the same function again and again until you reach the base case. \n",
    "- Backtracking is an algorithm that finds all the possible solutions and selects the desired solution from the given set of solutions.\n"
   ]
  }
 ],
 "metadata": {
  "language_info": {
   "name": "python"
  },
  "orig_nbformat": 4
 },
 "nbformat": 4,
 "nbformat_minor": 2
}
