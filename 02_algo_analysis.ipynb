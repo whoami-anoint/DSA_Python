{
 "cells": [
  {
   "attachments": {},
   "cell_type": "markdown",
   "metadata": {},
   "source": [
    "### Types of Analysis\n",
    "\n",
    "<b> There are three types of analysis:</b>\n",
    "* <b> Worst Case </b>\n",
    "* <b> Best Case </b>\n",
    "* <b> Average Case </b>"
   ]
  },
  {
   "attachments": {},
   "cell_type": "markdown",
   "metadata": {},
   "source": [
    "### Worst Case\n",
    " - Define the input for which algorithm takes a long time (slowest time to complete).\n",
    " - Input is the one for which the algorithm runs the slowest."
   ]
  },
  {
   "attachments": {},
   "cell_type": "markdown",
   "metadata": {},
   "source": [
    "### Best Case\n",
    "\n",
    "- Defines the input for which the algorithm takes the least time (fastest time to complete).\n",
    "- Input is the one for which the algorithm runs the fastest."
   ]
  },
  {
   "attachments": {},
   "cell_type": "markdown",
   "metadata": {},
   "source": [
    "### Average Case\n",
    "- Provides a prediction about the running of the algorithm.\n",
    "- Assumes that the input is random."
   ]
  },
  {
   "attachments": {},
   "cell_type": "markdown",
   "metadata": {},
   "source": [
    "``` Lower Bound <= Average Time <= Upper Bound```"
   ]
  }
 ],
 "metadata": {
  "kernelspec": {
   "display_name": "Python 3 (ipykernel)",
   "language": "python",
   "name": "python3"
  },
  "language_info": {
   "codemirror_mode": {
    "name": "ipython",
    "version": 3
   },
   "file_extension": ".py",
   "mimetype": "text/x-python",
   "name": "python",
   "nbconvert_exporter": "python",
   "pygments_lexer": "ipython3",
   "version": "3.11.2"
  }
 },
 "nbformat": 4,
 "nbformat_minor": 2
}
